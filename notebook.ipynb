{
 "cells": [
  {
   "cell_type": "markdown",
   "metadata": {},
   "source": [
    "## Import Python librairies"
   ]
  },
  {
   "cell_type": "code",
   "execution_count": null,
   "metadata": {},
   "outputs": [],
   "source": [
    "import os\n",
    "from astropy.io import fits\n",
    "import numpy as np\n",
    "import pandas as pd\n",
    "import matplotlib.pyplot as plt\n",
    "from scipy.optimize import curve_fit"
   ]
  },
  {
   "cell_type": "markdown",
   "metadata": {},
   "source": [
    "## Relevant parameters for the analysis, and arrays creation"
   ]
  },
  {
   "cell_type": "code",
   "execution_count": null,
   "metadata": {},
   "outputs": [],
   "source": [
    "E0 = 2454731.68039\n",
    "P = 2.204735471\n",
    "a = 0.0379 * 149597870.7\n",
    "Rp = 1.431 * 71492.0\n",
    "Rs = 2. * 696342.0\n",
    "inc = 81.1\n",
    "b = a/Rs * np.cos(np.radians(inc))\n",
    "Td = P/np.pi * np.arcsin( np.sqrt( (Rs + Rp)**2 - b**2)/a )\n",
    "\n",
    "flux = []\n",
    "time = []\n",
    "noise = []\n",
    "\n",
    "ff = []\n",
    "tt = []\n",
    "nn = []"
   ]
  },
  {
   "cell_type": "markdown",
   "metadata": {},
   "source": [
    "## Go over the files and extract the raw data"
   ]
  },
  {
   "cell_type": "code",
   "execution_count": null,
   "metadata": {},
   "outputs": [],
   "source": [
    "files = os.listdir('./data/')\n",
    "files = [filename for filename in files if filename.endswith('.fits')]\n",
    "\n",
    "for filename in files:\n",
    "\n",
    "    hdul = fits.open('./data/'+filename)\n",
    "    data = hdul[1].data\n",
    "    time = np.concatenate((time, data.field('TIME') + 2454833.0))\n",
    "    flux = np.concatenate((flux, data.field('PDCSAP_FLUX')))\n",
    "    noise = np.concatenate((noise, data.field('PDCSAP_FLUX_ERR')))\n",
    "    \n",
    "# clean NaN values\n",
    "are_finite = np.squeeze( np.argwhere( np.isnan(flux) == False ))\n",
    "flux = flux[are_finite]\n",
    "time = time[are_finite]\n",
    "noise = noise[are_finite]\n",
    "\n",
    "# plot raw data\n",
    "plt.plot(time, flux, 'b.')\n",
    "plt.show()"
   ]
  },
  {
   "cell_type": "markdown",
   "metadata": {},
   "source": [
    "## Average around mean time, and normalize"
   ]
  },
  {
   "cell_type": "code",
   "execution_count": null,
   "metadata": {},
   "outputs": [],
   "source": [
    "N = np.arange(1, 1000, 1)\n",
    "flag = np.zeros((N.size))\n",
    "for ii in N:\n",
    "    Tmid = E0 + ii*P\n",
    "    isthere = np.squeeze(np.argwhere( (time > Tmid - 3*Td) & (time < Tmid + 3*Td) ))\n",
    "    if isthere.size>0:\n",
    "        flag[ii-1] = 1\n",
    "\n",
    "tr = np.squeeze(np.argwhere(flag==1)) + 1\n",
    "for it in tr:\n",
    "    Tmid = E0 + it*P\n",
    "    idx = np.squeeze(np.argwhere( (time > Tmid - 3*Td) & (time < Tmid + 3*Td) ))\n",
    "\n",
    "    ff = np.concatenate((ff, flux[idx]/np.median(flux[idx])))\n",
    "    tt = np.concatenate((tt, time[idx] - Tmid))\n",
    "    nn = np.concatenate((nn, noise[idx]))\n",
    "\n",
    "# plot averaged and normalized data\n",
    "plt.plot(tt, ff, 'b.')\n",
    "plt.xlabel('time')\n",
    "plt.ylabel('flux')\n",
    "plt.show()"
   ]
  },
  {
   "cell_type": "markdown",
   "metadata": {},
   "source": [
    "## Bin the data set in 2-min bins"
   ]
  },
  {
   "cell_type": "code",
   "execution_count": null,
   "metadata": {},
   "outputs": [],
   "source": [
    "tmin = np.min(tt)\n",
    "tmax = np.max(tt)\n",
    "fac = 2. / (24. * 60.)\n",
    "\n",
    "nbins = np.int( np.floor( (tmax - tmin)/fac ))\n",
    "ff_bin = np.zeros((nbins))\n",
    "tt_bin = np.zeros((nbins))\n",
    "nn_bin = np.zeros((nbins))\n",
    "for i in range(nbins):\n",
    "    ins = np.squeeze( np.argwhere( (tt >= tmin + i*fac) & (tt < tmin +(i+1)*fac) ))\n",
    "    tt_bin[i] = tmin + i*fac\n",
    "    ff_bin[i] = np.median(ff[ins])\n",
    "    if ins.size == 1:\n",
    "        nn_bin[i] = 0.0\n",
    "    else:\n",
    "        nn_bin[i] = np.std(ff[ins])/np.sqrt(ins.size)\n",
    "\n",
    "# plot binned data\n",
    "plt.plot(tt_bin, ff_bin, 'b.')\n",
    "plt.xlabel('time')\n",
    "plt.ylabel('flux')\n",
    "plt.show()"
   ]
  },
  {
   "cell_type": "markdown",
   "metadata": {},
   "source": [
    "## Remove the remaining baseline"
   ]
  },
  {
   "cell_type": "code",
   "execution_count": null,
   "metadata": {},
   "outputs": [],
   "source": [
    "def myfunc(time, a, b, c, d):\n",
    "    return a + b*np.sin(c*(time + d))\n",
    "\n",
    "baseline = np.squeeze(np.argwhere( (tt_bin < -Td/2.0) | (tt_bin > Td/2.0) ))\n",
    "popt, pcov = curve_fit(myfunc, tt_bin[baseline], ff_bin[baseline])\n",
    "ff_detrend = ff_bin / myfunc(tt_bin, *popt)\n",
    "\n",
    "# plot\n",
    "fig, ax = plt.subplots(1, 3, figsize=(16,5))\n",
    "ax[0].plot(tt_bin[baseline], ff_bin[baseline], 'g.', label='baseline')\n",
    "ax[0].plot(tt_bin, myfunc(tt_bin, *popt), 'r-', label='baseline fit')\n",
    "ax[0].legend()\n",
    "ax[0].set_ylabel('flux')\n",
    "ax[0].set_xlabel('time')\n",
    "\n",
    "ax[1].plot(tt_bin, ff_bin, 'b.')\n",
    "ax[1].plot(tt_bin[baseline], ff_bin[baseline], 'g.')\n",
    "ax[1].plot(tt_bin, myfunc(tt_bin, *popt), 'r-')\n",
    "ax[1].set_xlabel('time')\n",
    "\n",
    "ax[2].plot(tt_bin, ff_bin, 'b.', label='no detrended')\n",
    "ax[2].plot(tt_bin, ff_detrend, 'y.', label = 'detrended')\n",
    "ax[2].legend()\n",
    "ax[2].set_xlabel('time')"
   ]
  },
  {
   "cell_type": "markdown",
   "metadata": {},
   "source": [
    "## From raw data to clean data\n",
    "\n",
    "The clean data set can then be used to estimate basic planetary parameters (see `model_data.py`)"
   ]
  },
  {
   "cell_type": "code",
   "execution_count": null,
   "metadata": {},
   "outputs": [],
   "source": [
    "fig, ax = plt.subplots(1, 2, figsize=(16,6))\n",
    "ax[0].plot(time, flux, 'k.', label='Raw data')\n",
    "ax[0].legend()\n",
    "ax[0].set_xlabel('raw time')\n",
    "ax[0].set_ylabel('raw flux')\n",
    "ax[1].plot(tt_bin, ff_detrend, 'b.', label='Clean data')\n",
    "ax[1].set_xlabel('time')\n",
    "ax[1].set_ylabel('flux')\n",
    "ax[1].legend()\n",
    "\n",
    "plt.show()"
   ]
  }
 ],
 "metadata": {
  "kernelspec": {
   "display_name": "Python 3",
   "language": "python",
   "name": "python3"
  },
  "language_info": {
   "codemirror_mode": {
    "name": "ipython",
    "version": 3
   },
   "file_extension": ".py",
   "mimetype": "text/x-python",
   "name": "python",
   "nbconvert_exporter": "python",
   "pygments_lexer": "ipython3",
   "version": "3.8.5"
  }
 },
 "nbformat": 4,
 "nbformat_minor": 4
}
